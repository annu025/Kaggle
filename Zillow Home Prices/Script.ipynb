{
 "cells": [
  {
   "cell_type": "markdown",
   "metadata": {},
   "source": [
    " # Exploratory Data Analysis on the Zillow Home Prices Data\n",
    " \n",
    " ## Loading the libraries and data set\n",
    "\n",
    "`ggplot2` and `tidyverse` libraries are used for data visualization and munging\n",
    "The `lubridate` library is used here for easy operations with datetime objects.\n",
    "The `fiftystater` and the `geofacet` packages are used for plotting the given values across the 50 states of the USA.\n",
    " "
   ]
  },
  {
   "cell_type": "code",
   "execution_count": 1,
   "metadata": {},
   "outputs": [
    {
     "name": "stderr",
     "output_type": "stream",
     "text": [
      "Loading tidyverse: ggplot2\n",
      "Loading tidyverse: tibble\n",
      "Loading tidyverse: tidyr\n",
      "Loading tidyverse: readr\n",
      "Loading tidyverse: purrr\n",
      "Loading tidyverse: dplyr\n",
      "Conflicts with tidy packages ---------------------------------------------------\n",
      "filter(): dplyr, stats\n",
      "lag():    dplyr, stats\n",
      "\n",
      "Attaching package: ‘lubridate’\n",
      "\n",
      "The following object is masked from ‘package:base’:\n",
      "\n",
      "    date\n",
      "\n"
     ]
    }
   ],
   "source": [
    "library(tidyverse)\n",
    "library(ggplot2)\n",
    "library(lubridate)\n",
    "library(fiftystater)\n",
    "library(geofacet)"
   ]
  },
  {
   "cell_type": "code",
   "execution_count": 4,
   "metadata": {},
   "outputs": [
    {
     "data": {
      "text/html": [
       "<table>\n",
       "<thead><tr><th scope=col>Date</th><th scope=col>RegionName</th><th scope=col>DaysOnZillow_AllHomes</th><th scope=col>InventorySeasonallyAdjusted_AllHomes</th><th scope=col>InventoryRaw_AllHomes</th><th scope=col>MedianListingPricePerSqft_1Bedroom</th><th scope=col>MedianListingPricePerSqft_2Bedroom</th><th scope=col>MedianListingPricePerSqft_3Bedroom</th><th scope=col>MedianListingPricePerSqft_4Bedroom</th><th scope=col>MedianListingPricePerSqft_5BedroomOrMore</th><th scope=col>⋯</th><th scope=col>ZHVI_BottomTier</th><th scope=col>ZHVI_CondoCoop</th><th scope=col>ZHVI_MiddleTier</th><th scope=col>ZHVI_SingleFamilyResidence</th><th scope=col>ZHVI_TopTier</th><th scope=col>ZRI_AllHomes</th><th scope=col>ZRI_AllHomesPlusMultifamily</th><th scope=col>ZriPerSqft_AllHomes</th><th scope=col>Zri_MultiFamilyResidenceRental</th><th scope=col>Zri_SingleFamilyResidenceRental</th></tr></thead>\n",
       "<tbody>\n",
       "\t<tr><td>1996-04-30 </td><td>Alabama    </td><td>NA         </td><td>NA         </td><td>NA         </td><td>NA         </td><td>NA         </td><td>NA         </td><td>NA         </td><td>NA         </td><td>⋯          </td><td>45600      </td><td> 99500     </td><td> 79500     </td><td> 79000     </td><td>140200     </td><td>NA         </td><td>NA         </td><td>NA         </td><td>NA         </td><td>NA         </td></tr>\n",
       "\t<tr><td>1996-04-30 </td><td>Arizona    </td><td>NA         </td><td>NA         </td><td>NA         </td><td>NA         </td><td>NA         </td><td>NA         </td><td>NA         </td><td>NA         </td><td>⋯          </td><td>67100      </td><td> 78900     </td><td>103600     </td><td>107500     </td><td>168700     </td><td>NA         </td><td>NA         </td><td>NA         </td><td>NA         </td><td>NA         </td></tr>\n",
       "\t<tr><td>1996-04-30 </td><td>Arkansas   </td><td>NA         </td><td>NA         </td><td>NA         </td><td>NA         </td><td>NA         </td><td>NA         </td><td>NA         </td><td>NA         </td><td>⋯          </td><td>38400      </td><td> 70300     </td><td> 64400     </td><td> 64500     </td><td>115200     </td><td>NA         </td><td>NA         </td><td>NA         </td><td>NA         </td><td>NA         </td></tr>\n",
       "\t<tr><td>1996-04-30 </td><td>California </td><td>NA         </td><td>NA         </td><td>NA         </td><td>NA         </td><td>NA         </td><td>NA         </td><td>NA         </td><td>NA         </td><td>⋯          </td><td>95100      </td><td>136100     </td><td>157900     </td><td>162000     </td><td>270600     </td><td>NA         </td><td>NA         </td><td>NA         </td><td>NA         </td><td>NA         </td></tr>\n",
       "\t<tr><td>1996-04-30 </td><td>Colorado   </td><td>NA         </td><td>NA         </td><td>NA         </td><td>NA         </td><td>NA         </td><td>NA         </td><td>NA         </td><td>NA         </td><td>⋯          </td><td>82700      </td><td> 99400     </td><td>128100     </td><td>133600     </td><td>209300     </td><td>NA         </td><td>NA         </td><td>NA         </td><td>NA         </td><td>NA         </td></tr>\n",
       "\t<tr><td>1996-04-30 </td><td>Connecticut</td><td>NA         </td><td>NA         </td><td>NA         </td><td>NA         </td><td>NA         </td><td>NA         </td><td>NA         </td><td>NA         </td><td>⋯          </td><td>83700      </td><td> 85000     </td><td>132000     </td><td>141000     </td><td>231600     </td><td>NA         </td><td>NA         </td><td>NA         </td><td>NA         </td><td>NA         </td></tr>\n",
       "</tbody>\n",
       "</table>\n"
      ],
      "text/latex": [
       "\\begin{tabular}{r|llllllllllllllllllllllllllllllllllllllllllllllllllllllllllllllllllllllllllllllllll}\n",
       " Date & RegionName & DaysOnZillow\\_AllHomes & InventorySeasonallyAdjusted\\_AllHomes & InventoryRaw\\_AllHomes & MedianListingPricePerSqft\\_1Bedroom & MedianListingPricePerSqft\\_2Bedroom & MedianListingPricePerSqft\\_3Bedroom & MedianListingPricePerSqft\\_4Bedroom & MedianListingPricePerSqft\\_5BedroomOrMore & ⋯ & ZHVI\\_BottomTier & ZHVI\\_CondoCoop & ZHVI\\_MiddleTier & ZHVI\\_SingleFamilyResidence & ZHVI\\_TopTier & ZRI\\_AllHomes & ZRI\\_AllHomesPlusMultifamily & ZriPerSqft\\_AllHomes & Zri\\_MultiFamilyResidenceRental & Zri\\_SingleFamilyResidenceRental\\\\\n",
       "\\hline\n",
       "\t 1996-04-30  & Alabama     & NA          & NA          & NA          & NA          & NA          & NA          & NA          & NA          & ⋯           & 45600       &  99500      &  79500      &  79000      & 140200      & NA          & NA          & NA          & NA          & NA         \\\\\n",
       "\t 1996-04-30  & Arizona     & NA          & NA          & NA          & NA          & NA          & NA          & NA          & NA          & ⋯           & 67100       &  78900      & 103600      & 107500      & 168700      & NA          & NA          & NA          & NA          & NA         \\\\\n",
       "\t 1996-04-30  & Arkansas    & NA          & NA          & NA          & NA          & NA          & NA          & NA          & NA          & ⋯           & 38400       &  70300      &  64400      &  64500      & 115200      & NA          & NA          & NA          & NA          & NA         \\\\\n",
       "\t 1996-04-30  & California  & NA          & NA          & NA          & NA          & NA          & NA          & NA          & NA          & ⋯           & 95100       & 136100      & 157900      & 162000      & 270600      & NA          & NA          & NA          & NA          & NA         \\\\\n",
       "\t 1996-04-30  & Colorado    & NA          & NA          & NA          & NA          & NA          & NA          & NA          & NA          & ⋯           & 82700       &  99400      & 128100      & 133600      & 209300      & NA          & NA          & NA          & NA          & NA         \\\\\n",
       "\t 1996-04-30  & Connecticut & NA          & NA          & NA          & NA          & NA          & NA          & NA          & NA          & ⋯           & 83700       &  85000      & 132000      & 141000      & 231600      & NA          & NA          & NA          & NA          & NA         \\\\\n",
       "\\end{tabular}\n"
      ],
      "text/markdown": [
       "\n",
       "Date | RegionName | DaysOnZillow_AllHomes | InventorySeasonallyAdjusted_AllHomes | InventoryRaw_AllHomes | MedianListingPricePerSqft_1Bedroom | MedianListingPricePerSqft_2Bedroom | MedianListingPricePerSqft_3Bedroom | MedianListingPricePerSqft_4Bedroom | MedianListingPricePerSqft_5BedroomOrMore | ⋯ | ZHVI_BottomTier | ZHVI_CondoCoop | ZHVI_MiddleTier | ZHVI_SingleFamilyResidence | ZHVI_TopTier | ZRI_AllHomes | ZRI_AllHomesPlusMultifamily | ZriPerSqft_AllHomes | Zri_MultiFamilyResidenceRental | Zri_SingleFamilyResidenceRental | \n",
       "|---|---|---|---|---|---|\n",
       "| 1996-04-30  | Alabama     | NA          | NA          | NA          | NA          | NA          | NA          | NA          | NA          | ⋯           | 45600       |  99500      |  79500      |  79000      | 140200      | NA          | NA          | NA          | NA          | NA          | \n",
       "| 1996-04-30  | Arizona     | NA          | NA          | NA          | NA          | NA          | NA          | NA          | NA          | ⋯           | 67100       |  78900      | 103600      | 107500      | 168700      | NA          | NA          | NA          | NA          | NA          | \n",
       "| 1996-04-30  | Arkansas    | NA          | NA          | NA          | NA          | NA          | NA          | NA          | NA          | ⋯           | 38400       |  70300      |  64400      |  64500      | 115200      | NA          | NA          | NA          | NA          | NA          | \n",
       "| 1996-04-30  | California  | NA          | NA          | NA          | NA          | NA          | NA          | NA          | NA          | ⋯           | 95100       | 136100      | 157900      | 162000      | 270600      | NA          | NA          | NA          | NA          | NA          | \n",
       "| 1996-04-30  | Colorado    | NA          | NA          | NA          | NA          | NA          | NA          | NA          | NA          | ⋯           | 82700       |  99400      | 128100      | 133600      | 209300      | NA          | NA          | NA          | NA          | NA          | \n",
       "| 1996-04-30  | Connecticut | NA          | NA          | NA          | NA          | NA          | NA          | NA          | NA          | ⋯           | 83700       |  85000      | 132000      | 141000      | 231600      | NA          | NA          | NA          | NA          | NA          | \n",
       "\n",
       "\n"
      ],
      "text/plain": [
       "  Date       RegionName  DaysOnZillow_AllHomes\n",
       "1 1996-04-30 Alabama     NA                   \n",
       "2 1996-04-30 Arizona     NA                   \n",
       "3 1996-04-30 Arkansas    NA                   \n",
       "4 1996-04-30 California  NA                   \n",
       "5 1996-04-30 Colorado    NA                   \n",
       "6 1996-04-30 Connecticut NA                   \n",
       "  InventorySeasonallyAdjusted_AllHomes InventoryRaw_AllHomes\n",
       "1 NA                                   NA                   \n",
       "2 NA                                   NA                   \n",
       "3 NA                                   NA                   \n",
       "4 NA                                   NA                   \n",
       "5 NA                                   NA                   \n",
       "6 NA                                   NA                   \n",
       "  MedianListingPricePerSqft_1Bedroom MedianListingPricePerSqft_2Bedroom\n",
       "1 NA                                 NA                                \n",
       "2 NA                                 NA                                \n",
       "3 NA                                 NA                                \n",
       "4 NA                                 NA                                \n",
       "5 NA                                 NA                                \n",
       "6 NA                                 NA                                \n",
       "  MedianListingPricePerSqft_3Bedroom MedianListingPricePerSqft_4Bedroom\n",
       "1 NA                                 NA                                \n",
       "2 NA                                 NA                                \n",
       "3 NA                                 NA                                \n",
       "4 NA                                 NA                                \n",
       "5 NA                                 NA                                \n",
       "6 NA                                 NA                                \n",
       "  MedianListingPricePerSqft_5BedroomOrMore ⋯ ZHVI_BottomTier ZHVI_CondoCoop\n",
       "1 NA                                       ⋯ 45600            99500        \n",
       "2 NA                                       ⋯ 67100            78900        \n",
       "3 NA                                       ⋯ 38400            70300        \n",
       "4 NA                                       ⋯ 95100           136100        \n",
       "5 NA                                       ⋯ 82700            99400        \n",
       "6 NA                                       ⋯ 83700            85000        \n",
       "  ZHVI_MiddleTier ZHVI_SingleFamilyResidence ZHVI_TopTier ZRI_AllHomes\n",
       "1  79500           79000                     140200       NA          \n",
       "2 103600          107500                     168700       NA          \n",
       "3  64400           64500                     115200       NA          \n",
       "4 157900          162000                     270600       NA          \n",
       "5 128100          133600                     209300       NA          \n",
       "6 132000          141000                     231600       NA          \n",
       "  ZRI_AllHomesPlusMultifamily ZriPerSqft_AllHomes\n",
       "1 NA                          NA                 \n",
       "2 NA                          NA                 \n",
       "3 NA                          NA                 \n",
       "4 NA                          NA                 \n",
       "5 NA                          NA                 \n",
       "6 NA                          NA                 \n",
       "  Zri_MultiFamilyResidenceRental Zri_SingleFamilyResidenceRental\n",
       "1 NA                             NA                             \n",
       "2 NA                             NA                             \n",
       "3 NA                             NA                             \n",
       "4 NA                             NA                             \n",
       "5 NA                             NA                             \n",
       "6 NA                             NA                             "
      ]
     },
     "metadata": {},
     "output_type": "display_data"
    }
   ],
   "source": [
    "# data read\n",
    "\n",
    "state <- read.csv(file = 'State_time_series.csv')"
   ]
  },
  {
   "cell_type": "markdown",
   "metadata": {},
   "source": [
    "## Introduction\n",
    "\n",
    "Zillow collects , processes and publishes housing and economic data from a variety of propriety sources.To get an idea of the data we have, we shall ask several questions.\n",
    "\n",
    "* How do the home values vary by tier type?\n",
    "* How do the home values vary by time by tier?\n",
    "* How do the rent to price ratio of homes change by state?\n",
    "* How do the number of days on the Zillow database vary with the median value?\n",
    "* How does the median value of the house rent per square feet change with time?\n",
    "\n",
    "\n",
    "## How do the home values change by tier?"
   ]
  },
  {
   "cell_type": "code",
   "execution_count": 5,
   "metadata": {},
   "outputs": [
    {
     "data": {
      "text/html": [
       "<table>\n",
       "<thead><tr><th scope=col>Date</th><th scope=col>RegionName</th><th scope=col>DaysOnZillow_AllHomes</th><th scope=col>InventorySeasonallyAdjusted_AllHomes</th><th scope=col>InventoryRaw_AllHomes</th><th scope=col>MedianListingPricePerSqft_1Bedroom</th><th scope=col>MedianListingPricePerSqft_2Bedroom</th><th scope=col>MedianListingPricePerSqft_3Bedroom</th><th scope=col>MedianListingPricePerSqft_4Bedroom</th><th scope=col>MedianListingPricePerSqft_5BedroomOrMore</th><th scope=col>⋯</th><th scope=col>ZHVI_BottomTier</th><th scope=col>ZHVI_CondoCoop</th><th scope=col>ZHVI_MiddleTier</th><th scope=col>ZHVI_SingleFamilyResidence</th><th scope=col>ZHVI_TopTier</th><th scope=col>ZRI_AllHomes</th><th scope=col>ZRI_AllHomesPlusMultifamily</th><th scope=col>ZriPerSqft_AllHomes</th><th scope=col>Zri_MultiFamilyResidenceRental</th><th scope=col>Zri_SingleFamilyResidenceRental</th></tr></thead>\n",
       "<tbody>\n",
       "\t<tr><td>1996-04-30 </td><td>Alabama    </td><td>NA         </td><td>NA         </td><td>NA         </td><td>NA         </td><td>NA         </td><td>NA         </td><td>NA         </td><td>NA         </td><td>⋯          </td><td> 45600     </td><td> 99500     </td><td> 79500     </td><td> 79000     </td><td>140200     </td><td>NA         </td><td>NA         </td><td>NA         </td><td>NA         </td><td>NA         </td></tr>\n",
       "\t<tr><td>1996-04-30 </td><td>Arizona    </td><td>NA         </td><td>NA         </td><td>NA         </td><td>NA         </td><td>NA         </td><td>NA         </td><td>NA         </td><td>NA         </td><td>⋯          </td><td> 67100     </td><td> 78900     </td><td>103600     </td><td>107500     </td><td>168700     </td><td>NA         </td><td>NA         </td><td>NA         </td><td>NA         </td><td>NA         </td></tr>\n",
       "\t<tr><td>1996-04-30 </td><td>Arkansas   </td><td>NA         </td><td>NA         </td><td>NA         </td><td>NA         </td><td>NA         </td><td>NA         </td><td>NA         </td><td>NA         </td><td>⋯          </td><td> 38400     </td><td> 70300     </td><td> 64400     </td><td> 64500     </td><td>115200     </td><td>NA         </td><td>NA         </td><td>NA         </td><td>NA         </td><td>NA         </td></tr>\n",
       "\t<tr><td>1996-04-30 </td><td>California </td><td>NA         </td><td>NA         </td><td>NA         </td><td>NA         </td><td>NA         </td><td>NA         </td><td>NA         </td><td>NA         </td><td>⋯          </td><td> 95100     </td><td>136100     </td><td>157900     </td><td>162000     </td><td>270600     </td><td>NA         </td><td>NA         </td><td>NA         </td><td>NA         </td><td>NA         </td></tr>\n",
       "\t<tr><td>1996-04-30 </td><td>Colorado   </td><td>NA         </td><td>NA         </td><td>NA         </td><td>NA         </td><td>NA         </td><td>NA         </td><td>NA         </td><td>NA         </td><td>⋯          </td><td> 82700     </td><td> 99400     </td><td>128100     </td><td>133600     </td><td>209300     </td><td>NA         </td><td>NA         </td><td>NA         </td><td>NA         </td><td>NA         </td></tr>\n",
       "\t<tr><td>1996-04-30 </td><td>Connecticut</td><td>NA         </td><td>NA         </td><td>NA         </td><td>NA         </td><td>NA         </td><td>NA         </td><td>NA         </td><td>NA         </td><td>⋯          </td><td> 83700     </td><td> 85000     </td><td>132000     </td><td>141000     </td><td>231600     </td><td>NA         </td><td>NA         </td><td>NA         </td><td>NA         </td><td>NA         </td></tr>\n",
       "\t<tr><td>1996-04-30 </td><td>Delaware   </td><td>NA         </td><td>NA         </td><td>NA         </td><td>NA         </td><td>NA         </td><td>NA         </td><td>NA         </td><td>NA         </td><td>⋯          </td><td> 77200     </td><td>    NA     </td><td>106800     </td><td>107400     </td><td>161600     </td><td>NA         </td><td>NA         </td><td>NA         </td><td>NA         </td><td>NA         </td></tr>\n",
       "\t<tr><td>1996-04-30 </td><td>Florida    </td><td>NA         </td><td>NA         </td><td>NA         </td><td>NA         </td><td>NA         </td><td>NA         </td><td>NA         </td><td>NA         </td><td>⋯          </td><td> 52500     </td><td> 70600     </td><td> 86300     </td><td> 92100     </td><td>155300     </td><td>NA         </td><td>NA         </td><td>NA         </td><td>NA         </td><td>NA         </td></tr>\n",
       "\t<tr><td>1996-04-30 </td><td>Georgia    </td><td>NA         </td><td>NA         </td><td>NA         </td><td>NA         </td><td>NA         </td><td>NA         </td><td>NA         </td><td>NA         </td><td>⋯          </td><td> 57200     </td><td> 89300     </td><td> 92000     </td><td> 92400     </td><td>163900     </td><td>NA         </td><td>NA         </td><td>NA         </td><td>NA         </td><td>NA         </td></tr>\n",
       "\t<tr><td>1996-04-30 </td><td>Hawaii     </td><td>NA         </td><td>NA         </td><td>NA         </td><td>NA         </td><td>NA         </td><td>NA         </td><td>NA         </td><td>NA         </td><td>⋯          </td><td>144500     </td><td>177000     </td><td>227400     </td><td>262600     </td><td>374700     </td><td>NA         </td><td>NA         </td><td>NA         </td><td>NA         </td><td>NA         </td></tr>\n",
       "</tbody>\n",
       "</table>\n"
      ],
      "text/latex": [
       "\\begin{tabular}{r|llllllllllllllllllllllllllllllllllllllllllllllllllllllllllllllllllllllllllllllllll}\n",
       " Date & RegionName & DaysOnZillow\\_AllHomes & InventorySeasonallyAdjusted\\_AllHomes & InventoryRaw\\_AllHomes & MedianListingPricePerSqft\\_1Bedroom & MedianListingPricePerSqft\\_2Bedroom & MedianListingPricePerSqft\\_3Bedroom & MedianListingPricePerSqft\\_4Bedroom & MedianListingPricePerSqft\\_5BedroomOrMore & ⋯ & ZHVI\\_BottomTier & ZHVI\\_CondoCoop & ZHVI\\_MiddleTier & ZHVI\\_SingleFamilyResidence & ZHVI\\_TopTier & ZRI\\_AllHomes & ZRI\\_AllHomesPlusMultifamily & ZriPerSqft\\_AllHomes & Zri\\_MultiFamilyResidenceRental & Zri\\_SingleFamilyResidenceRental\\\\\n",
       "\\hline\n",
       "\t 1996-04-30  & Alabama     & NA          & NA          & NA          & NA          & NA          & NA          & NA          & NA          & ⋯           &  45600      &  99500      &  79500      &  79000      & 140200      & NA          & NA          & NA          & NA          & NA         \\\\\n",
       "\t 1996-04-30  & Arizona     & NA          & NA          & NA          & NA          & NA          & NA          & NA          & NA          & ⋯           &  67100      &  78900      & 103600      & 107500      & 168700      & NA          & NA          & NA          & NA          & NA         \\\\\n",
       "\t 1996-04-30  & Arkansas    & NA          & NA          & NA          & NA          & NA          & NA          & NA          & NA          & ⋯           &  38400      &  70300      &  64400      &  64500      & 115200      & NA          & NA          & NA          & NA          & NA         \\\\\n",
       "\t 1996-04-30  & California  & NA          & NA          & NA          & NA          & NA          & NA          & NA          & NA          & ⋯           &  95100      & 136100      & 157900      & 162000      & 270600      & NA          & NA          & NA          & NA          & NA         \\\\\n",
       "\t 1996-04-30  & Colorado    & NA          & NA          & NA          & NA          & NA          & NA          & NA          & NA          & ⋯           &  82700      &  99400      & 128100      & 133600      & 209300      & NA          & NA          & NA          & NA          & NA         \\\\\n",
       "\t 1996-04-30  & Connecticut & NA          & NA          & NA          & NA          & NA          & NA          & NA          & NA          & ⋯           &  83700      &  85000      & 132000      & 141000      & 231600      & NA          & NA          & NA          & NA          & NA         \\\\\n",
       "\t 1996-04-30  & Delaware    & NA          & NA          & NA          & NA          & NA          & NA          & NA          & NA          & ⋯           &  77200      &     NA      & 106800      & 107400      & 161600      & NA          & NA          & NA          & NA          & NA         \\\\\n",
       "\t 1996-04-30  & Florida     & NA          & NA          & NA          & NA          & NA          & NA          & NA          & NA          & ⋯           &  52500      &  70600      &  86300      &  92100      & 155300      & NA          & NA          & NA          & NA          & NA         \\\\\n",
       "\t 1996-04-30  & Georgia     & NA          & NA          & NA          & NA          & NA          & NA          & NA          & NA          & ⋯           &  57200      &  89300      &  92000      &  92400      & 163900      & NA          & NA          & NA          & NA          & NA         \\\\\n",
       "\t 1996-04-30  & Hawaii      & NA          & NA          & NA          & NA          & NA          & NA          & NA          & NA          & ⋯           & 144500      & 177000      & 227400      & 262600      & 374700      & NA          & NA          & NA          & NA          & NA         \\\\\n",
       "\\end{tabular}\n"
      ],
      "text/markdown": [
       "\n",
       "Date | RegionName | DaysOnZillow_AllHomes | InventorySeasonallyAdjusted_AllHomes | InventoryRaw_AllHomes | MedianListingPricePerSqft_1Bedroom | MedianListingPricePerSqft_2Bedroom | MedianListingPricePerSqft_3Bedroom | MedianListingPricePerSqft_4Bedroom | MedianListingPricePerSqft_5BedroomOrMore | ⋯ | ZHVI_BottomTier | ZHVI_CondoCoop | ZHVI_MiddleTier | ZHVI_SingleFamilyResidence | ZHVI_TopTier | ZRI_AllHomes | ZRI_AllHomesPlusMultifamily | ZriPerSqft_AllHomes | Zri_MultiFamilyResidenceRental | Zri_SingleFamilyResidenceRental | \n",
       "|---|---|---|---|---|---|---|---|---|---|\n",
       "| 1996-04-30  | Alabama     | NA          | NA          | NA          | NA          | NA          | NA          | NA          | NA          | ⋯           |  45600      |  99500      |  79500      |  79000      | 140200      | NA          | NA          | NA          | NA          | NA          | \n",
       "| 1996-04-30  | Arizona     | NA          | NA          | NA          | NA          | NA          | NA          | NA          | NA          | ⋯           |  67100      |  78900      | 103600      | 107500      | 168700      | NA          | NA          | NA          | NA          | NA          | \n",
       "| 1996-04-30  | Arkansas    | NA          | NA          | NA          | NA          | NA          | NA          | NA          | NA          | ⋯           |  38400      |  70300      |  64400      |  64500      | 115200      | NA          | NA          | NA          | NA          | NA          | \n",
       "| 1996-04-30  | California  | NA          | NA          | NA          | NA          | NA          | NA          | NA          | NA          | ⋯           |  95100      | 136100      | 157900      | 162000      | 270600      | NA          | NA          | NA          | NA          | NA          | \n",
       "| 1996-04-30  | Colorado    | NA          | NA          | NA          | NA          | NA          | NA          | NA          | NA          | ⋯           |  82700      |  99400      | 128100      | 133600      | 209300      | NA          | NA          | NA          | NA          | NA          | \n",
       "| 1996-04-30  | Connecticut | NA          | NA          | NA          | NA          | NA          | NA          | NA          | NA          | ⋯           |  83700      |  85000      | 132000      | 141000      | 231600      | NA          | NA          | NA          | NA          | NA          | \n",
       "| 1996-04-30  | Delaware    | NA          | NA          | NA          | NA          | NA          | NA          | NA          | NA          | ⋯           |  77200      |     NA      | 106800      | 107400      | 161600      | NA          | NA          | NA          | NA          | NA          | \n",
       "| 1996-04-30  | Florida     | NA          | NA          | NA          | NA          | NA          | NA          | NA          | NA          | ⋯           |  52500      |  70600      |  86300      |  92100      | 155300      | NA          | NA          | NA          | NA          | NA          | \n",
       "| 1996-04-30  | Georgia     | NA          | NA          | NA          | NA          | NA          | NA          | NA          | NA          | ⋯           |  57200      |  89300      |  92000      |  92400      | 163900      | NA          | NA          | NA          | NA          | NA          | \n",
       "| 1996-04-30  | Hawaii      | NA          | NA          | NA          | NA          | NA          | NA          | NA          | NA          | ⋯           | 144500      | 177000      | 227400      | 262600      | 374700      | NA          | NA          | NA          | NA          | NA          | \n",
       "\n",
       "\n"
      ],
      "text/plain": [
       "   Date       RegionName  DaysOnZillow_AllHomes\n",
       "1  1996-04-30 Alabama     NA                   \n",
       "2  1996-04-30 Arizona     NA                   \n",
       "3  1996-04-30 Arkansas    NA                   \n",
       "4  1996-04-30 California  NA                   \n",
       "5  1996-04-30 Colorado    NA                   \n",
       "6  1996-04-30 Connecticut NA                   \n",
       "7  1996-04-30 Delaware    NA                   \n",
       "8  1996-04-30 Florida     NA                   \n",
       "9  1996-04-30 Georgia     NA                   \n",
       "10 1996-04-30 Hawaii      NA                   \n",
       "   InventorySeasonallyAdjusted_AllHomes InventoryRaw_AllHomes\n",
       "1  NA                                   NA                   \n",
       "2  NA                                   NA                   \n",
       "3  NA                                   NA                   \n",
       "4  NA                                   NA                   \n",
       "5  NA                                   NA                   \n",
       "6  NA                                   NA                   \n",
       "7  NA                                   NA                   \n",
       "8  NA                                   NA                   \n",
       "9  NA                                   NA                   \n",
       "10 NA                                   NA                   \n",
       "   MedianListingPricePerSqft_1Bedroom MedianListingPricePerSqft_2Bedroom\n",
       "1  NA                                 NA                                \n",
       "2  NA                                 NA                                \n",
       "3  NA                                 NA                                \n",
       "4  NA                                 NA                                \n",
       "5  NA                                 NA                                \n",
       "6  NA                                 NA                                \n",
       "7  NA                                 NA                                \n",
       "8  NA                                 NA                                \n",
       "9  NA                                 NA                                \n",
       "10 NA                                 NA                                \n",
       "   MedianListingPricePerSqft_3Bedroom MedianListingPricePerSqft_4Bedroom\n",
       "1  NA                                 NA                                \n",
       "2  NA                                 NA                                \n",
       "3  NA                                 NA                                \n",
       "4  NA                                 NA                                \n",
       "5  NA                                 NA                                \n",
       "6  NA                                 NA                                \n",
       "7  NA                                 NA                                \n",
       "8  NA                                 NA                                \n",
       "9  NA                                 NA                                \n",
       "10 NA                                 NA                                \n",
       "   MedianListingPricePerSqft_5BedroomOrMore ⋯ ZHVI_BottomTier ZHVI_CondoCoop\n",
       "1  NA                                       ⋯  45600           99500        \n",
       "2  NA                                       ⋯  67100           78900        \n",
       "3  NA                                       ⋯  38400           70300        \n",
       "4  NA                                       ⋯  95100          136100        \n",
       "5  NA                                       ⋯  82700           99400        \n",
       "6  NA                                       ⋯  83700           85000        \n",
       "7  NA                                       ⋯  77200              NA        \n",
       "8  NA                                       ⋯  52500           70600        \n",
       "9  NA                                       ⋯  57200           89300        \n",
       "10 NA                                       ⋯ 144500          177000        \n",
       "   ZHVI_MiddleTier ZHVI_SingleFamilyResidence ZHVI_TopTier ZRI_AllHomes\n",
       "1   79500           79000                     140200       NA          \n",
       "2  103600          107500                     168700       NA          \n",
       "3   64400           64500                     115200       NA          \n",
       "4  157900          162000                     270600       NA          \n",
       "5  128100          133600                     209300       NA          \n",
       "6  132000          141000                     231600       NA          \n",
       "7  106800          107400                     161600       NA          \n",
       "8   86300           92100                     155300       NA          \n",
       "9   92000           92400                     163900       NA          \n",
       "10 227400          262600                     374700       NA          \n",
       "   ZRI_AllHomesPlusMultifamily ZriPerSqft_AllHomes\n",
       "1  NA                          NA                 \n",
       "2  NA                          NA                 \n",
       "3  NA                          NA                 \n",
       "4  NA                          NA                 \n",
       "5  NA                          NA                 \n",
       "6  NA                          NA                 \n",
       "7  NA                          NA                 \n",
       "8  NA                          NA                 \n",
       "9  NA                          NA                 \n",
       "10 NA                          NA                 \n",
       "   Zri_MultiFamilyResidenceRental Zri_SingleFamilyResidenceRental\n",
       "1  NA                             NA                             \n",
       "2  NA                             NA                             \n",
       "3  NA                             NA                             \n",
       "4  NA                             NA                             \n",
       "5  NA                             NA                             \n",
       "6  NA                             NA                             \n",
       "7  NA                             NA                             \n",
       "8  NA                             NA                             \n",
       "9  NA                             NA                             \n",
       "10 NA                             NA                             "
      ]
     },
     "metadata": {},
     "output_type": "display_data"
    }
   ],
   "source": [
    "head(state, 10)"
   ]
  },
  {
   "cell_type": "code",
   "execution_count": 9,
   "metadata": {},
   "outputs": [],
   "source": [
    "tier <- names(state)[grepl('Tier',names(state))]\n",
    "tier1 <- names(state)"
   ]
  },
  {
   "cell_type": "code",
   "execution_count": 10,
   "metadata": {},
   "outputs": [
    {
     "data": {
      "text/html": [
       "<ol class=list-inline>\n",
       "\t<li>'Date'</li>\n",
       "\t<li>'RegionName'</li>\n",
       "\t<li>'DaysOnZillow_AllHomes'</li>\n",
       "\t<li>'InventorySeasonallyAdjusted_AllHomes'</li>\n",
       "\t<li>'InventoryRaw_AllHomes'</li>\n",
       "\t<li>'MedianListingPricePerSqft_1Bedroom'</li>\n",
       "</ol>\n"
      ],
      "text/latex": [
       "\\begin{enumerate*}\n",
       "\\item 'Date'\n",
       "\\item 'RegionName'\n",
       "\\item 'DaysOnZillow\\_AllHomes'\n",
       "\\item 'InventorySeasonallyAdjusted\\_AllHomes'\n",
       "\\item 'InventoryRaw\\_AllHomes'\n",
       "\\item 'MedianListingPricePerSqft\\_1Bedroom'\n",
       "\\end{enumerate*}\n"
      ],
      "text/markdown": [
       "1. 'Date'\n",
       "2. 'RegionName'\n",
       "3. 'DaysOnZillow_AllHomes'\n",
       "4. 'InventorySeasonallyAdjusted_AllHomes'\n",
       "5. 'InventoryRaw_AllHomes'\n",
       "6. 'MedianListingPricePerSqft_1Bedroom'\n",
       "\n",
       "\n"
      ],
      "text/plain": [
       "[1] \"Date\"                                \n",
       "[2] \"RegionName\"                          \n",
       "[3] \"DaysOnZillow_AllHomes\"               \n",
       "[4] \"InventorySeasonallyAdjusted_AllHomes\"\n",
       "[5] \"InventoryRaw_AllHomes\"               \n",
       "[6] \"MedianListingPricePerSqft_1Bedroom\"  "
      ]
     },
     "metadata": {},
     "output_type": "display_data"
    }
   ],
   "source": [
    "head(tier1)"
   ]
  },
  {
   "cell_type": "code",
   "execution_count": null,
   "metadata": {},
   "outputs": [],
   "source": []
  }
 ],
 "metadata": {
  "kernelspec": {
   "display_name": "R",
   "language": "R",
   "name": "ir"
  },
  "language_info": {
   "codemirror_mode": "r",
   "file_extension": ".r",
   "mimetype": "text/x-r-source",
   "name": "R",
   "pygments_lexer": "r",
   "version": "3.4.2"
  }
 },
 "nbformat": 4,
 "nbformat_minor": 2
}
