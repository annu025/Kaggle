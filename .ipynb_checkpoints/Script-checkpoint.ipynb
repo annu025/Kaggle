{
 "cells": [
  {
   "cell_type": "markdown",
   "metadata": {},
   "source": [
    " # Exploratory Data Analysis on the Zillow Home Prices Data\n",
    " \n",
    " ## Loading the libraries and data set\n",
    "\n",
    "`ggplot2` and `tidyverse` libraries are used for data visualization and munging\n",
    "The `lubridate` library is used here for easy operations with datetime objects.\n",
    "The `fiftystater` and the `geofacet` packages are used for plotting the given values across the 50 states of the USA.\n",
    " "
   ]
  },
  {
   "cell_type": "code",
   "execution_count": 2,
   "metadata": {},
   "outputs": [
    {
     "name": "stderr",
     "output_type": "stream",
     "text": [
      "Loading tidyverse: ggplot2\n",
      "Loading tidyverse: tibble\n",
      "Loading tidyverse: tidyr\n",
      "Loading tidyverse: readr\n",
      "Loading tidyverse: purrr\n",
      "Loading tidyverse: dplyr\n",
      "Conflicts with tidy packages ---------------------------------------------------\n",
      "filter(): dplyr, stats\n",
      "lag():    dplyr, stats\n",
      "\n",
      "Attaching package: ‘lubridate’\n",
      "\n",
      "The following object is masked from ‘package:base’:\n",
      "\n",
      "    date\n",
      "\n"
     ]
    }
   ],
   "source": [
    "library(tidyverse)\n",
    "library(ggplot2)\n",
    "library(lubridate)\n",
    "library(fiftystater)\n",
    "library(geofacet)"
   ]
  },
  {
   "cell_type": "code",
   "execution_count": 6,
   "metadata": {},
   "outputs": [
    {
     "name": "stderr",
     "output_type": "stream",
     "text": [
      "Warning message in file(file, \"rt\"):\n",
      "“cannot open file 'State_time_series.csv': No such file or directory”"
     ]
    },
    {
     "ename": "ERROR",
     "evalue": "Error in file(file, \"rt\"): cannot open the connection\n",
     "execution_count": 6,
     "output_type": "error",
     "traceback": [
      "Error in file(file, \"rt\"): cannot open the connection\nTraceback:\n",
      "1. read.csv(file = \"State_time_series.csv\", header = header)",
      "2. read.table(file = file, header = header, sep = sep, quote = quote, \n .     dec = dec, fill = fill, comment.char = comment.char, ...)",
      "3. file(file, \"rt\")"
     ]
    }
   ],
   "source": [
    "# data read\n",
    "\n",
    "state <- read.csv(file = 'State_time_series.csv', header = header)\n",
    "head(state)"
   ]
  },
  {
   "cell_type": "markdown",
   "metadata": {},
   "source": [
    "## Introduction\n",
    "\n",
    "Zillow collects , processes and publishes housing and economic data from a variety of propriety sources.To get an idea of the data we have, we shall ask several questions.\n",
    "\n",
    "* How do the home values vary by tier type?\n",
    "* How do the home values vary by time by tier?\n",
    "* How do the rent to price ratio of homes change by state?\n",
    "* How do the number of days on the Zillow database vary with the median value?\n",
    "* How does the median value of the house rent per square feet change with time?\n",
    "\n",
    "\n",
    "## How do the home values change by tier?"
   ]
  },
  {
   "cell_type": "code",
   "execution_count": 4,
   "metadata": {},
   "outputs": [
    {
     "ename": "ERROR",
     "evalue": "Error in head(state, 10): object 'state' not found\n",
     "execution_count": 4,
     "output_type": "error",
     "traceback": [
      "Error in head(state, 10): object 'state' not found\nTraceback:\n",
      "1. head(state, 10)"
     ]
    }
   ],
   "source": [
    "head(state, 10)"
   ]
  },
  {
   "cell_type": "code",
   "execution_count": null,
   "metadata": {},
   "outputs": [],
   "source": []
  }
 ],
 "metadata": {
  "kernelspec": {
   "display_name": "R",
   "language": "R",
   "name": "ir"
  },
  "language_info": {
   "codemirror_mode": "r",
   "file_extension": ".r",
   "mimetype": "text/x-r-source",
   "name": "R",
   "pygments_lexer": "r",
   "version": "3.4.2"
  }
 },
 "nbformat": 4,
 "nbformat_minor": 2
}
